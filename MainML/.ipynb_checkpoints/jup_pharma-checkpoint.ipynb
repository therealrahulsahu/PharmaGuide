{
 "cells": [
  {
   "cell_type": "code",
   "execution_count": 1,
   "metadata": {},
   "outputs": [
    {
     "name": "stderr",
     "output_type": "stream",
     "text": [
      "C:\\Users\\KIIT\\AppData\\Roaming\\Python\\Python37\\site-packages\\sklearn\\preprocessing\\_label.py:251: DataConversionWarning: A column-vector y was passed when a 1d array was expected. Please change the shape of y to (n_samples, ), for example using ravel().\n",
      "  y = column_or_1d(y, warn=True)\n"
     ]
    }
   ],
   "source": [
    "import numpy as np\n",
    "import pandas as pd\n",
    "\n",
    "dataset=pd.read_csv('ohas.csv')\n",
    "dataset=dataset.dropna(axis=0,how='any',subset=['Symptoms'])\n",
    "X=dataset.iloc[:, 0:1].values#disease\n",
    "\n",
    "Y=dataset.iloc[:, 8:9].values#age\n",
    "Z=dataset.iloc[:, 9:10].values#gender\n",
    "S=dataset.iloc[:, 12:13].values#season\n",
    "m=dataset.iloc[:, 2:3].values#Symptoms\n",
    "\n",
    "from sklearn.preprocessing import LabelEncoder,OneHotEncoder\n",
    "labelencoder=LabelEncoder()\n",
    "m=labelencoder.fit_transform(m).reshape(-1, 1)\n",
    "\n",
    "Z=(labelencoder.fit_transform(Z)).reshape(-1, 1)\n",
    "S=(labelencoder.fit_transform(S)).reshape(-1, 1)\n",
    "X=(labelencoder.fit_transform(X)).reshape(-1, 1)\n",
    "\n",
    "en = OneHotEncoder(drop='first')\n",
    "m = en.fit_transform(m)\n",
    "m=m.toarray()\n",
    "\n",
    "Y=np.append(m,Y,axis=1)\n",
    "Y=np.append(Y,Z,axis=1)\n",
    "Y=np.append(Y,S,axis=1)\n",
    "\n",
    "from sklearn.utils import shuffle\n",
    "X1, Y1 = shuffle(Y, X)\n",
    "\n",
    "from sklearn.metrics import accuracy_score\n",
    "\n",
    "from sklearn.ensemble import GradientBoostingClassifier\n",
    "\n",
    "gbk = GradientBoostingClassifier()\n"
   ]
  },
  {
   "cell_type": "code",
   "execution_count": 4,
   "metadata": {},
   "outputs": [
    {
     "data": {
      "text/plain": [
       "array([[33],\n",
       "       [58],\n",
       "       [16],\n",
       "       [20],\n",
       "       [80]])"
      ]
     },
     "execution_count": 4,
     "metadata": {},
     "output_type": "execute_result"
    }
   ],
   "source": [
    "Y1[0:5,:]"
   ]
  },
  {
   "cell_type": "code",
   "execution_count": 5,
   "metadata": {},
   "outputs": [
    {
     "name": "stderr",
     "output_type": "stream",
     "text": [
      "C:\\Users\\KIIT\\AppData\\Roaming\\Python\\Python37\\site-packages\\sklearn\\ensemble\\_gb.py:1454: DataConversionWarning: A column-vector y was passed when a 1d array was expected. Please change the shape of y to (n_samples, ), for example using ravel().\n",
      "  y = column_or_1d(y, warn=True)\n"
     ]
    },
    {
     "data": {
      "text/plain": [
       "GradientBoostingClassifier(ccp_alpha=0.0, criterion='friedman_mse', init=None,\n",
       "                           learning_rate=0.1, loss='deviance', max_depth=3,\n",
       "                           max_features=None, max_leaf_nodes=None,\n",
       "                           min_impurity_decrease=0.0, min_impurity_split=None,\n",
       "                           min_samples_leaf=1, min_samples_split=2,\n",
       "                           min_weight_fraction_leaf=0.0, n_estimators=100,\n",
       "                           n_iter_no_change=None, presort='deprecated',\n",
       "                           random_state=None, subsample=1.0, tol=0.0001,\n",
       "                           validation_fraction=0.1, verbose=0,\n",
       "                           warm_start=False)"
      ]
     },
     "execution_count": 5,
     "metadata": {},
     "output_type": "execute_result"
    }
   ],
   "source": [
    "gbk.fit(Y, X)"
   ]
  },
  {
   "cell_type": "code",
   "execution_count": 11,
   "metadata": {},
   "outputs": [],
   "source": [
    "import pickle\n",
    "filename = 'pharma_guide_finalized_model.sav'\n",
    "pickle.dump(gbk, open('re_'+filename, 'wb'))"
   ]
  },
  {
   "cell_type": "code",
   "execution_count": 12,
   "metadata": {},
   "outputs": [],
   "source": [
    "loaded_model = pickle.load(open(filename, 'rb'))"
   ]
  },
  {
   "cell_type": "code",
   "execution_count": 15,
   "metadata": {},
   "outputs": [
    {
     "name": "stdout",
     "output_type": "stream",
     "text": [
      "MODEL-10: Accuracy of GradientBoostingClassifier :  100.0\n",
      "[87]  Which id actually  [87]\n"
     ]
    }
   ],
   "source": [
    "Y_pred = loaded_model.predict(X1[0:5, :])\n",
    "#Y_pred = gbk.predict(X1[0:5, :])\n",
    "acc_gbk = round(accuracy_score(Y_pred, Y1[0:5, :]) * 100, 2)\n",
    "print( \"MODEL-10: Accuracy of GradientBoostingClassifier : \",acc_gbk )\n",
    "\n",
    "Y_pred = gbk.predict(Y[0:1, :])\n",
    "print(Y_pred,' Which id actually ',X[0,:])"
   ]
  }
 ],
 "metadata": {
  "kernelspec": {
   "display_name": "Python 3",
   "language": "python",
   "name": "python3"
  },
  "language_info": {
   "codemirror_mode": {
    "name": "ipython",
    "version": 3
   },
   "file_extension": ".py",
   "mimetype": "text/x-python",
   "name": "python",
   "nbconvert_exporter": "python",
   "pygments_lexer": "ipython3",
   "version": "3.7.4"
  }
 },
 "nbformat": 4,
 "nbformat_minor": 2
}
